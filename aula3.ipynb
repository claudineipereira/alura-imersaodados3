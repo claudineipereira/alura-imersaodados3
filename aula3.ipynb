{
 "cells": [
  {
   "cell_type": "raw",
   "metadata": {},
   "source": [
    "<script>\n",
    "  function code_toggle() {\n",
    "    if (code_shown){\n",
    "      $('div.input').hide('500');\n",
    "      $('#toggleButton').val('Show Code')\n",
    "    } else {\n",
    "      $('div.input').show('500');\n",
    "      $('#toggleButton').val('Hide Code')\n",
    "    }\n",
    "    code_shown = !code_shown\n",
    "  }\n",
    "\n",
    "  $( document ).ready(function(){\n",
    "    code_shown=false;\n",
    "    $('div.input').hide()\n",
    "  });\n",
    "</script>\n",
    "<form action=\"javascript:code_toggle()\"><input type=\"submit\" id=\"toggleButton\" value=\"Mostrar código\"></form>"
   ]
  },
  {
   "cell_type": "markdown",
   "metadata": {
    "id": "of8nMEQUopWT"
   },
   "source": [
    "# Alura - Imersão Dados 3ª Edição"
   ]
  },
  {
   "cell_type": "markdown",
   "metadata": {
    "id": "t1R7xJOHo258"
   },
   "source": [
    "## Aula 3: Correlações, causalidade e relações entre genes"
   ]
  },
  {
   "cell_type": "code",
   "execution_count": 1,
   "metadata": {
    "id": "ak80uuofHngz"
   },
   "outputs": [],
   "source": [
    "# importa o pandas e lê os dados em csv a partir de uma url\n",
    "# importa seaborn para os gráficos\n",
    "# importa matplotlib para configurar os gráficos\n",
    "import pandas as pd\n",
    "import seaborn as sns\n",
    "import matplotlib.pyplot as plt\n",
    "\n",
    "sns.set()\n",
    "\n",
    "url_dados = 'https://github.com/alura-cursos/imersaodados3/blob/main/dados/dados_experimentos.zip?raw=true'\n",
    "\n",
    "dados = pd.read_csv(url_dados, compression='zip')"
   ]
  },
  {
   "cell_type": "markdown",
   "metadata": {
    "id": "u5G57SIGpxr3"
   },
   "source": [
    "## Desafios da Aula 3"
   ]
  },
  {
   "cell_type": "markdown",
   "metadata": {
    "id": "eayqRb2ez1d1"
   },
   "source": [
    "### Desafio 01"
   ]
  },
  {
   "cell_type": "raw",
   "metadata": {},
   "source": [
    "<script>\n",
    "  $(document).ready(function(){\n",
    "    $('div.prompt').hide();\n",
    "    $('div.back-to-top').hide();\n",
    "    $('nav#menubar').hide();\n",
    "    $('.breadcrumb').hide();\n",
    "    $('.hidden-print').hide();\n",
    "  });\n",
    "</script>\n",
    "\n",
    "<footer id=\"attribution\" style=\"float:right; color:#999; background:#fff;\">@ \n",
    "<a href=\"https://www.claudineipereira.com/\">Claudinei Pereira</a>\n",
    "</footer>"
   ]
  }
 ],
 "metadata": {
  "colab": {
   "collapsed_sections": [],
   "name": "aula2.ipynb",
   "provenance": []
  },
  "kernelspec": {
   "display_name": "Python 3",
   "language": "python",
   "name": "python3"
  },
  "language_info": {
   "codemirror_mode": {
    "name": "ipython",
    "version": 3
   },
   "file_extension": ".py",
   "mimetype": "text/x-python",
   "name": "python",
   "nbconvert_exporter": "python",
   "pygments_lexer": "ipython3",
   "version": "3.8.5"
  }
 },
 "nbformat": 4,
 "nbformat_minor": 1
}
