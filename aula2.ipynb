{
 "cells": [
  {
   "cell_type": "markdown",
   "metadata": {
    "id": "of8nMEQUopWT"
   },
   "source": [
    "# Alura - Imersão Dados 3ª Edição"
   ]
  },
  {
   "cell_type": "code",
   "execution_count": 9,
   "metadata": {},
   "outputs": [],
   "source": [
    "# importa módulo para esconder código\n",
    "from esconde_codigo import esconde_codigo as esconde"
   ]
  },
  {
   "cell_type": "markdown",
   "metadata": {
    "id": "t1R7xJOHo258"
   },
   "source": [
    "## Aula 2: Estatísticas, visualização de dados e distribuições"
   ]
  },
  {
   "cell_type": "code",
   "execution_count": 5,
   "metadata": {
    "id": "ak80uuofHngz"
   },
   "outputs": [],
   "source": [
    "# importa o pandas e lê os dados em csv a partir de uma url\n",
    "# importa seaborn para os gráficos\n",
    "# importa matplotlib para configurar os gráficos\n",
    "import pandas as pd\n",
    "import seaborn as sns\n",
    "import matplotlib.pyplot as plt\n",
    "\n",
    "sns.set()\n",
    "\n",
    "url_dados = 'https://github.com/alura-cursos/imersaodados3/blob/main/dados/dados_experimentos.zip?raw=true'\n",
    "\n",
    "dados = pd.read_csv(url_dados, compression='zip')"
   ]
  },
  {
   "cell_type": "code",
   "execution_count": 6,
   "metadata": {
    "id": "1NAsvRWRtZZX"
   },
   "outputs": [],
   "source": [
    "# renomeia coluna droga\n",
    "mapa = {'droga': 'composto'}\n",
    "dados.rename(columns=mapa, inplace=True)"
   ]
  },
  {
   "cell_type": "code",
   "execution_count": 7,
   "metadata": {
    "colab": {
     "base_uri": "https://localhost:8080/",
     "height": 256
    },
    "id": "hqiziVVPuSwX",
    "outputId": "83de900f-214d-49cb-872a-40af06f175b9"
   },
   "outputs": [
    {
     "data": {
      "text/html": [
       "<div>\n",
       "<style scoped>\n",
       "    .dataframe tbody tr th:only-of-type {\n",
       "        vertical-align: middle;\n",
       "    }\n",
       "\n",
       "    .dataframe tbody tr th {\n",
       "        vertical-align: top;\n",
       "    }\n",
       "\n",
       "    .dataframe thead th {\n",
       "        text-align: right;\n",
       "    }\n",
       "</style>\n",
       "<table border=\"1\" class=\"dataframe\">\n",
       "  <thead>\n",
       "    <tr style=\"text-align: right;\">\n",
       "      <th></th>\n",
       "      <th>id</th>\n",
       "      <th>tratamento</th>\n",
       "      <th>tempo</th>\n",
       "      <th>dose</th>\n",
       "      <th>composto</th>\n",
       "      <th>g-0</th>\n",
       "      <th>g-1</th>\n",
       "      <th>g-2</th>\n",
       "      <th>g-3</th>\n",
       "      <th>g-4</th>\n",
       "      <th>...</th>\n",
       "      <th>c-90</th>\n",
       "      <th>c-91</th>\n",
       "      <th>c-92</th>\n",
       "      <th>c-93</th>\n",
       "      <th>c-94</th>\n",
       "      <th>c-95</th>\n",
       "      <th>c-96</th>\n",
       "      <th>c-97</th>\n",
       "      <th>c-98</th>\n",
       "      <th>c-99</th>\n",
       "    </tr>\n",
       "  </thead>\n",
       "  <tbody>\n",
       "    <tr>\n",
       "      <th>0</th>\n",
       "      <td>id_000644bb2</td>\n",
       "      <td>com_droga</td>\n",
       "      <td>24</td>\n",
       "      <td>D1</td>\n",
       "      <td>b68db1d53</td>\n",
       "      <td>1.0620</td>\n",
       "      <td>0.5577</td>\n",
       "      <td>-0.2479</td>\n",
       "      <td>-0.6208</td>\n",
       "      <td>-0.1944</td>\n",
       "      <td>...</td>\n",
       "      <td>0.2862</td>\n",
       "      <td>0.2584</td>\n",
       "      <td>0.8076</td>\n",
       "      <td>0.5523</td>\n",
       "      <td>-0.1912</td>\n",
       "      <td>0.6584</td>\n",
       "      <td>-0.3981</td>\n",
       "      <td>0.2139</td>\n",
       "      <td>0.3801</td>\n",
       "      <td>0.4176</td>\n",
       "    </tr>\n",
       "    <tr>\n",
       "      <th>1</th>\n",
       "      <td>id_000779bfc</td>\n",
       "      <td>com_droga</td>\n",
       "      <td>72</td>\n",
       "      <td>D1</td>\n",
       "      <td>df89a8e5a</td>\n",
       "      <td>0.0743</td>\n",
       "      <td>0.4087</td>\n",
       "      <td>0.2991</td>\n",
       "      <td>0.0604</td>\n",
       "      <td>1.0190</td>\n",
       "      <td>...</td>\n",
       "      <td>-0.4265</td>\n",
       "      <td>0.7543</td>\n",
       "      <td>0.4708</td>\n",
       "      <td>0.0230</td>\n",
       "      <td>0.2957</td>\n",
       "      <td>0.4899</td>\n",
       "      <td>0.1522</td>\n",
       "      <td>0.1241</td>\n",
       "      <td>0.6077</td>\n",
       "      <td>0.7371</td>\n",
       "    </tr>\n",
       "    <tr>\n",
       "      <th>2</th>\n",
       "      <td>id_000a6266a</td>\n",
       "      <td>com_droga</td>\n",
       "      <td>48</td>\n",
       "      <td>D1</td>\n",
       "      <td>18bb41b2c</td>\n",
       "      <td>0.6280</td>\n",
       "      <td>0.5817</td>\n",
       "      <td>1.5540</td>\n",
       "      <td>-0.0764</td>\n",
       "      <td>-0.0323</td>\n",
       "      <td>...</td>\n",
       "      <td>-0.7250</td>\n",
       "      <td>-0.6297</td>\n",
       "      <td>0.6103</td>\n",
       "      <td>0.0223</td>\n",
       "      <td>-1.3240</td>\n",
       "      <td>-0.3174</td>\n",
       "      <td>-0.6417</td>\n",
       "      <td>-0.2187</td>\n",
       "      <td>-1.4080</td>\n",
       "      <td>0.6931</td>\n",
       "    </tr>\n",
       "    <tr>\n",
       "      <th>3</th>\n",
       "      <td>id_0015fd391</td>\n",
       "      <td>com_droga</td>\n",
       "      <td>48</td>\n",
       "      <td>D1</td>\n",
       "      <td>8c7f86626</td>\n",
       "      <td>-0.5138</td>\n",
       "      <td>-0.2491</td>\n",
       "      <td>-0.2656</td>\n",
       "      <td>0.5288</td>\n",
       "      <td>4.0620</td>\n",
       "      <td>...</td>\n",
       "      <td>-2.0990</td>\n",
       "      <td>-0.6441</td>\n",
       "      <td>-5.6300</td>\n",
       "      <td>-1.3780</td>\n",
       "      <td>-0.8632</td>\n",
       "      <td>-1.2880</td>\n",
       "      <td>-1.6210</td>\n",
       "      <td>-0.8784</td>\n",
       "      <td>-0.3876</td>\n",
       "      <td>-0.8154</td>\n",
       "    </tr>\n",
       "    <tr>\n",
       "      <th>4</th>\n",
       "      <td>id_001626bd3</td>\n",
       "      <td>com_droga</td>\n",
       "      <td>72</td>\n",
       "      <td>D2</td>\n",
       "      <td>7cbed3131</td>\n",
       "      <td>-0.3254</td>\n",
       "      <td>-0.4009</td>\n",
       "      <td>0.9700</td>\n",
       "      <td>0.6919</td>\n",
       "      <td>1.4180</td>\n",
       "      <td>...</td>\n",
       "      <td>0.0042</td>\n",
       "      <td>0.0048</td>\n",
       "      <td>0.6670</td>\n",
       "      <td>1.0690</td>\n",
       "      <td>0.5523</td>\n",
       "      <td>-0.3031</td>\n",
       "      <td>0.1094</td>\n",
       "      <td>0.2885</td>\n",
       "      <td>-0.3786</td>\n",
       "      <td>0.7125</td>\n",
       "    </tr>\n",
       "  </tbody>\n",
       "</table>\n",
       "<p>5 rows × 877 columns</p>\n",
       "</div>"
      ],
      "text/plain": [
       "             id tratamento  tempo dose   composto     g-0     g-1     g-2  \\\n",
       "0  id_000644bb2  com_droga     24   D1  b68db1d53  1.0620  0.5577 -0.2479   \n",
       "1  id_000779bfc  com_droga     72   D1  df89a8e5a  0.0743  0.4087  0.2991   \n",
       "2  id_000a6266a  com_droga     48   D1  18bb41b2c  0.6280  0.5817  1.5540   \n",
       "3  id_0015fd391  com_droga     48   D1  8c7f86626 -0.5138 -0.2491 -0.2656   \n",
       "4  id_001626bd3  com_droga     72   D2  7cbed3131 -0.3254 -0.4009  0.9700   \n",
       "\n",
       "      g-3     g-4  ...    c-90    c-91    c-92    c-93    c-94    c-95  \\\n",
       "0 -0.6208 -0.1944  ...  0.2862  0.2584  0.8076  0.5523 -0.1912  0.6584   \n",
       "1  0.0604  1.0190  ... -0.4265  0.7543  0.4708  0.0230  0.2957  0.4899   \n",
       "2 -0.0764 -0.0323  ... -0.7250 -0.6297  0.6103  0.0223 -1.3240 -0.3174   \n",
       "3  0.5288  4.0620  ... -2.0990 -0.6441 -5.6300 -1.3780 -0.8632 -1.2880   \n",
       "4  0.6919  1.4180  ...  0.0042  0.0048  0.6670  1.0690  0.5523 -0.3031   \n",
       "\n",
       "     c-96    c-97    c-98    c-99  \n",
       "0 -0.3981  0.2139  0.3801  0.4176  \n",
       "1  0.1522  0.1241  0.6077  0.7371  \n",
       "2 -0.6417 -0.2187 -1.4080  0.6931  \n",
       "3 -1.6210 -0.8784 -0.3876 -0.8154  \n",
       "4  0.1094  0.2885 -0.3786  0.7125  \n",
       "\n",
       "[5 rows x 877 columns]"
      ]
     },
     "execution_count": 7,
     "metadata": {},
     "output_type": "execute_result"
    }
   ],
   "source": [
    "dados.head()"
   ]
  },
  {
   "cell_type": "code",
   "execution_count": 4,
   "metadata": {
    "id": "IvoCxwNhvVvW"
   },
   "outputs": [],
   "source": [
    "# Armazena os 05 compostos mais frequentes na variável compostos\n",
    "compostos = dados['composto'].value_counts()[0:5]"
   ]
  },
  {
   "cell_type": "code",
   "execution_count": 5,
   "metadata": {
    "id": "NVw0JUb2wSUH"
   },
   "outputs": [],
   "source": [
    "# Armazena o index dos 05 compostos mais frequentes na variável cod_compostos\n",
    "cod_compostos = dados['composto'].value_counts().index[0:5]"
   ]
  },
  {
   "cell_type": "code",
   "execution_count": 6,
   "metadata": {
    "id": "SNvW84Qgwm6s"
   },
   "outputs": [],
   "source": [
    "# Filtra as entradas do datafram em que o composto é um dos 05 mais frequentes\n",
    "compostos_filtrados = dados.query('composto in @cod_compostos')"
   ]
  },
  {
   "cell_type": "code",
   "execution_count": 7,
   "metadata": {
    "colab": {
     "base_uri": "https://localhost:8080/",
     "height": 410
    },
    "id": "k7-sYyjCugfp",
    "outputId": "15129353-92bf-4a09-b773-0d9f9348054d"
   },
   "outputs": [
    {
     "data": {
      "image/png": "[encoded data removed]",
      "text/plain": [
       "<Figure size 576x432 with 1 Axes>"
      ]
     },
     "metadata": {},
     "output_type": "display_data"
    }
   ],
   "source": [
    "# Utiliza matplotlib para definir o tamanho do gráfico.\n",
    "# Utiliza o seaborn para plotar um gráfico da contagem dos 05 compostos mais\n",
    "# frequentes.\n",
    "plt.figure(figsize=(8, 6))\n",
    "ax = sns.countplot(x='composto', data=compostos_filtrados)\n",
    "ax.set_title('Top 5 compostos')\n",
    "plt.show()"
   ]
  },
  {
   "cell_type": "code",
   "execution_count": 8,
   "metadata": {
    "colab": {
     "base_uri": "https://localhost:8080/"
    },
    "id": "LnQx7M0G1z5_",
    "outputId": "096195aa-1fcd-4a03-b81f-349100f8ec77"
   },
   "outputs": [
    {
     "data": {
      "text/plain": [
       "14367"
      ]
     },
     "execution_count": 8,
     "metadata": {},
     "output_type": "execute_result"
    }
   ],
   "source": [
    "# Retorna o tamanho de g-0\n",
    "len(dados['g-0'].unique())"
   ]
  },
  {
   "cell_type": "code",
   "execution_count": 9,
   "metadata": {
    "colab": {
     "base_uri": "https://localhost:8080/"
    },
    "id": "K53Py7Pa2g-A",
    "outputId": "51b78a60-15d6-413d-f293-f5d43a6cb772"
   },
   "outputs": [
    {
     "data": {
      "text/plain": [
       "-5.513"
      ]
     },
     "execution_count": 9,
     "metadata": {},
     "output_type": "execute_result"
    }
   ],
   "source": [
    "# Retorna o valor mínimo de g-0\n",
    "dados['g-0'].min()"
   ]
  },
  {
   "cell_type": "code",
   "execution_count": 10,
   "metadata": {
    "colab": {
     "base_uri": "https://localhost:8080/"
    },
    "id": "HwgE6Dy02rSq",
    "outputId": "ecfc1fd7-586b-42a9-fae0-dcd208a0bf53"
   },
   "outputs": [
    {
     "data": {
      "text/plain": [
       "10.0"
      ]
     },
     "execution_count": 10,
     "metadata": {},
     "output_type": "execute_result"
    }
   ],
   "source": [
    "# Retorna o valor máximo de g-0\n",
    "dados['g-0'].max()"
   ]
  },
  {
   "cell_type": "code",
   "execution_count": 11,
   "metadata": {
    "colab": {
     "base_uri": "https://localhost:8080/"
    },
    "id": "_Xh_Dv-P7H4m",
    "outputId": "88995271-1c38-4fa0-c7fa-d8952377e02e"
   },
   "outputs": [
    {
     "data": {
      "text/plain": [
       "0.24836629293692786"
      ]
     },
     "execution_count": 11,
     "metadata": {},
     "output_type": "execute_result"
    }
   ],
   "source": [
    "# Retorna o valor médio de g-0\n",
    "dados['g-0'].mean()"
   ]
  },
  {
   "cell_type": "code",
   "execution_count": 12,
   "metadata": {
    "colab": {
     "base_uri": "https://localhost:8080/",
     "height": 350
    },
    "id": "NAfeXHgv7Wlz",
    "outputId": "9149a53f-8e59-4349-d79c-0a852f274f54"
   },
   "outputs": [
    {
     "data": {
      "text/html": [
       "<div>\n",
       "<style scoped>\n",
       "    .dataframe tbody tr th:only-of-type {\n",
       "        vertical-align: middle;\n",
       "    }\n",
       "\n",
       "    .dataframe tbody tr th {\n",
       "        vertical-align: top;\n",
       "    }\n",
       "\n",
       "    .dataframe thead th {\n",
       "        text-align: right;\n",
       "    }\n",
       "</style>\n",
       "<table border=\"1\" class=\"dataframe\">\n",
       "  <thead>\n",
       "    <tr style=\"text-align: right;\">\n",
       "      <th></th>\n",
       "      <th>tempo</th>\n",
       "      <th>g-0</th>\n",
       "      <th>g-1</th>\n",
       "      <th>g-2</th>\n",
       "      <th>g-3</th>\n",
       "      <th>g-4</th>\n",
       "      <th>g-5</th>\n",
       "      <th>g-6</th>\n",
       "      <th>g-7</th>\n",
       "      <th>g-8</th>\n",
       "      <th>...</th>\n",
       "      <th>c-90</th>\n",
       "      <th>c-91</th>\n",
       "      <th>c-92</th>\n",
       "      <th>c-93</th>\n",
       "      <th>c-94</th>\n",
       "      <th>c-95</th>\n",
       "      <th>c-96</th>\n",
       "      <th>c-97</th>\n",
       "      <th>c-98</th>\n",
       "      <th>c-99</th>\n",
       "    </tr>\n",
       "  </thead>\n",
       "  <tbody>\n",
       "    <tr>\n",
       "      <th>count</th>\n",
       "      <td>23814.000000</td>\n",
       "      <td>23814.000000</td>\n",
       "      <td>23814.000000</td>\n",
       "      <td>23814.000000</td>\n",
       "      <td>23814.000000</td>\n",
       "      <td>23814.000000</td>\n",
       "      <td>23814.000000</td>\n",
       "      <td>23814.000000</td>\n",
       "      <td>23814.000000</td>\n",
       "      <td>23814.000000</td>\n",
       "      <td>...</td>\n",
       "      <td>23814.000000</td>\n",
       "      <td>23814.000000</td>\n",
       "      <td>23814.000000</td>\n",
       "      <td>23814.000000</td>\n",
       "      <td>23814.000000</td>\n",
       "      <td>23814.000000</td>\n",
       "      <td>23814.000000</td>\n",
       "      <td>23814.000000</td>\n",
       "      <td>23814.000000</td>\n",
       "      <td>23814.000000</td>\n",
       "    </tr>\n",
       "    <tr>\n",
       "      <th>mean</th>\n",
       "      <td>48.020156</td>\n",
       "      <td>0.248366</td>\n",
       "      <td>-0.095684</td>\n",
       "      <td>0.152253</td>\n",
       "      <td>0.081971</td>\n",
       "      <td>0.057347</td>\n",
       "      <td>-0.138836</td>\n",
       "      <td>0.035961</td>\n",
       "      <td>-0.202651</td>\n",
       "      <td>-0.190083</td>\n",
       "      <td>...</td>\n",
       "      <td>-0.469244</td>\n",
       "      <td>-0.461411</td>\n",
       "      <td>-0.513256</td>\n",
       "      <td>-0.500142</td>\n",
       "      <td>-0.507093</td>\n",
       "      <td>-0.353726</td>\n",
       "      <td>-0.463485</td>\n",
       "      <td>-0.378241</td>\n",
       "      <td>-0.470252</td>\n",
       "      <td>-0.301505</td>\n",
       "    </tr>\n",
       "    <tr>\n",
       "      <th>std</th>\n",
       "      <td>19.402807</td>\n",
       "      <td>1.393399</td>\n",
       "      <td>0.812363</td>\n",
       "      <td>1.035731</td>\n",
       "      <td>0.950012</td>\n",
       "      <td>1.032091</td>\n",
       "      <td>1.179388</td>\n",
       "      <td>0.882395</td>\n",
       "      <td>1.125494</td>\n",
       "      <td>1.749885</td>\n",
       "      <td>...</td>\n",
       "      <td>2.000488</td>\n",
       "      <td>2.042475</td>\n",
       "      <td>2.001714</td>\n",
       "      <td>2.107105</td>\n",
       "      <td>2.159589</td>\n",
       "      <td>1.629291</td>\n",
       "      <td>2.059725</td>\n",
       "      <td>1.703615</td>\n",
       "      <td>1.834828</td>\n",
       "      <td>1.407918</td>\n",
       "    </tr>\n",
       "    <tr>\n",
       "      <th>min</th>\n",
       "      <td>24.000000</td>\n",
       "      <td>-5.513000</td>\n",
       "      <td>-5.737000</td>\n",
       "      <td>-9.104000</td>\n",
       "      <td>-5.998000</td>\n",
       "      <td>-6.369000</td>\n",
       "      <td>-10.000000</td>\n",
       "      <td>-10.000000</td>\n",
       "      <td>-10.000000</td>\n",
       "      <td>-10.000000</td>\n",
       "      <td>...</td>\n",
       "      <td>-10.000000</td>\n",
       "      <td>-10.000000</td>\n",
       "      <td>-10.000000</td>\n",
       "      <td>-10.000000</td>\n",
       "      <td>-10.000000</td>\n",
       "      <td>-10.000000</td>\n",
       "      <td>-10.000000</td>\n",
       "      <td>-10.000000</td>\n",
       "      <td>-10.000000</td>\n",
       "      <td>-10.000000</td>\n",
       "    </tr>\n",
       "    <tr>\n",
       "      <th>25%</th>\n",
       "      <td>24.000000</td>\n",
       "      <td>-0.473075</td>\n",
       "      <td>-0.562200</td>\n",
       "      <td>-0.437750</td>\n",
       "      <td>-0.429575</td>\n",
       "      <td>-0.470925</td>\n",
       "      <td>-0.602225</td>\n",
       "      <td>-0.493900</td>\n",
       "      <td>-0.525175</td>\n",
       "      <td>-0.511675</td>\n",
       "      <td>...</td>\n",
       "      <td>-0.566175</td>\n",
       "      <td>-0.565975</td>\n",
       "      <td>-0.589975</td>\n",
       "      <td>-0.568700</td>\n",
       "      <td>-0.563775</td>\n",
       "      <td>-0.567975</td>\n",
       "      <td>-0.552575</td>\n",
       "      <td>-0.561000</td>\n",
       "      <td>-0.592600</td>\n",
       "      <td>-0.562900</td>\n",
       "    </tr>\n",
       "    <tr>\n",
       "      <th>50%</th>\n",
       "      <td>48.000000</td>\n",
       "      <td>-0.008850</td>\n",
       "      <td>-0.046600</td>\n",
       "      <td>0.075200</td>\n",
       "      <td>0.008050</td>\n",
       "      <td>-0.026900</td>\n",
       "      <td>-0.015650</td>\n",
       "      <td>-0.000650</td>\n",
       "      <td>-0.017900</td>\n",
       "      <td>0.010000</td>\n",
       "      <td>...</td>\n",
       "      <td>-0.009900</td>\n",
       "      <td>0.003250</td>\n",
       "      <td>-0.009100</td>\n",
       "      <td>-0.013750</td>\n",
       "      <td>-0.003300</td>\n",
       "      <td>-0.010250</td>\n",
       "      <td>-0.001250</td>\n",
       "      <td>-0.006800</td>\n",
       "      <td>0.014000</td>\n",
       "      <td>-0.019500</td>\n",
       "    </tr>\n",
       "    <tr>\n",
       "      <th>75%</th>\n",
       "      <td>72.000000</td>\n",
       "      <td>0.525700</td>\n",
       "      <td>0.403075</td>\n",
       "      <td>0.663925</td>\n",
       "      <td>0.463400</td>\n",
       "      <td>0.465375</td>\n",
       "      <td>0.510425</td>\n",
       "      <td>0.528725</td>\n",
       "      <td>0.411900</td>\n",
       "      <td>0.549225</td>\n",
       "      <td>...</td>\n",
       "      <td>0.457750</td>\n",
       "      <td>0.461500</td>\n",
       "      <td>0.445675</td>\n",
       "      <td>0.452900</td>\n",
       "      <td>0.470900</td>\n",
       "      <td>0.444750</td>\n",
       "      <td>0.465225</td>\n",
       "      <td>0.446400</td>\n",
       "      <td>0.461275</td>\n",
       "      <td>0.438650</td>\n",
       "    </tr>\n",
       "    <tr>\n",
       "      <th>max</th>\n",
       "      <td>72.000000</td>\n",
       "      <td>10.000000</td>\n",
       "      <td>5.039000</td>\n",
       "      <td>8.257000</td>\n",
       "      <td>10.000000</td>\n",
       "      <td>10.000000</td>\n",
       "      <td>7.282000</td>\n",
       "      <td>7.333000</td>\n",
       "      <td>5.473000</td>\n",
       "      <td>8.887000</td>\n",
       "      <td>...</td>\n",
       "      <td>4.069000</td>\n",
       "      <td>3.960000</td>\n",
       "      <td>3.927000</td>\n",
       "      <td>3.596000</td>\n",
       "      <td>3.747000</td>\n",
       "      <td>2.814000</td>\n",
       "      <td>3.505000</td>\n",
       "      <td>2.924000</td>\n",
       "      <td>3.111000</td>\n",
       "      <td>3.805000</td>\n",
       "    </tr>\n",
       "  </tbody>\n",
       "</table>\n",
       "<p>8 rows × 873 columns</p>\n",
       "</div>"
      ],
      "text/plain": [
       "              tempo           g-0           g-1           g-2           g-3  \\\n",
       "count  23814.000000  23814.000000  23814.000000  23814.000000  23814.000000   \n",
       "mean      48.020156      0.248366     -0.095684      0.152253      0.081971   \n",
       "std       19.402807      1.393399      0.812363      1.035731      0.950012   \n",
       "min       24.000000     -5.513000     -5.737000     -9.104000     -5.998000   \n",
       "25%       24.000000     -0.473075     -0.562200     -0.437750     -0.429575   \n",
       "50%       48.000000     -0.008850     -0.046600      0.075200      0.008050   \n",
       "75%       72.000000      0.525700      0.403075      0.663925      0.463400   \n",
       "max       72.000000     10.000000      5.039000      8.257000     10.000000   \n",
       "\n",
       "                g-4           g-5           g-6           g-7           g-8  \\\n",
       "count  23814.000000  23814.000000  23814.000000  23814.000000  23814.000000   \n",
       "mean       0.057347     -0.138836      0.035961     -0.202651     -0.190083   \n",
       "std        1.032091      1.179388      0.882395      1.125494      1.749885   \n",
       "min       -6.369000    -10.000000    -10.000000    -10.000000    -10.000000   \n",
       "25%       -0.470925     -0.602225     -0.493900     -0.525175     -0.511675   \n",
       "50%       -0.026900     -0.015650     -0.000650     -0.017900      0.010000   \n",
       "75%        0.465375      0.510425      0.528725      0.411900      0.549225   \n",
       "max       10.000000      7.282000      7.333000      5.473000      8.887000   \n",
       "\n",
       "       ...          c-90          c-91          c-92          c-93  \\\n",
       "count  ...  23814.000000  23814.000000  23814.000000  23814.000000   \n",
       "mean   ...     -0.469244     -0.461411     -0.513256     -0.500142   \n",
       "std    ...      2.000488      2.042475      2.001714      2.107105   \n",
       "min    ...    -10.000000    -10.000000    -10.000000    -10.000000   \n",
       "25%    ...     -0.566175     -0.565975     -0.589975     -0.568700   \n",
       "50%    ...     -0.009900      0.003250     -0.009100     -0.013750   \n",
       "75%    ...      0.457750      0.461500      0.445675      0.452900   \n",
       "max    ...      4.069000      3.960000      3.927000      3.596000   \n",
       "\n",
       "               c-94          c-95          c-96          c-97          c-98  \\\n",
       "count  23814.000000  23814.000000  23814.000000  23814.000000  23814.000000   \n",
       "mean      -0.507093     -0.353726     -0.463485     -0.378241     -0.470252   \n",
       "std        2.159589      1.629291      2.059725      1.703615      1.834828   \n",
       "min      -10.000000    -10.000000    -10.000000    -10.000000    -10.000000   \n",
       "25%       -0.563775     -0.567975     -0.552575     -0.561000     -0.592600   \n",
       "50%       -0.003300     -0.010250     -0.001250     -0.006800      0.014000   \n",
       "75%        0.470900      0.444750      0.465225      0.446400      0.461275   \n",
       "max        3.747000      2.814000      3.505000      2.924000      3.111000   \n",
       "\n",
       "               c-99  \n",
       "count  23814.000000  \n",
       "mean      -0.301505  \n",
       "std        1.407918  \n",
       "min      -10.000000  \n",
       "25%       -0.562900  \n",
       "50%       -0.019500  \n",
       "75%        0.438650  \n",
       "max        3.805000  \n",
       "\n",
       "[8 rows x 873 columns]"
      ]
     },
     "execution_count": 12,
     "metadata": {},
     "output_type": "execute_result"
    }
   ],
   "source": [
    "# Descreve o dataframe\n",
    "dados.describe()"
   ]
  },
  {
   "cell_type": "code",
   "execution_count": 13,
   "metadata": {
    "colab": {
     "base_uri": "https://localhost:8080/",
     "height": 350
    },
    "id": "SaxgmO727s1R",
    "outputId": "f00b3a25-a03d-4822-c4fc-9563d482b7ee"
   },
   "outputs": [
    {
     "data": {
      "text/html": [
       "<div>\n",
       "<style scoped>\n",
       "    .dataframe tbody tr th:only-of-type {\n",
       "        vertical-align: middle;\n",
       "    }\n",
       "\n",
       "    .dataframe tbody tr th {\n",
       "        vertical-align: top;\n",
       "    }\n",
       "\n",
       "    .dataframe thead th {\n",
       "        text-align: right;\n",
       "    }\n",
       "</style>\n",
       "<table border=\"1\" class=\"dataframe\">\n",
       "  <thead>\n",
       "    <tr style=\"text-align: right;\">\n",
       "      <th></th>\n",
       "      <th>g-0</th>\n",
       "      <th>g-1</th>\n",
       "      <th>g-2</th>\n",
       "      <th>g-3</th>\n",
       "      <th>g-4</th>\n",
       "      <th>g-5</th>\n",
       "      <th>g-6</th>\n",
       "      <th>g-7</th>\n",
       "      <th>g-8</th>\n",
       "      <th>g-9</th>\n",
       "      <th>...</th>\n",
       "      <th>g-762</th>\n",
       "      <th>g-763</th>\n",
       "      <th>g-764</th>\n",
       "      <th>g-765</th>\n",
       "      <th>g-766</th>\n",
       "      <th>g-767</th>\n",
       "      <th>g-768</th>\n",
       "      <th>g-769</th>\n",
       "      <th>g-770</th>\n",
       "      <th>g-771</th>\n",
       "    </tr>\n",
       "  </thead>\n",
       "  <tbody>\n",
       "    <tr>\n",
       "      <th>count</th>\n",
       "      <td>23814.000000</td>\n",
       "      <td>23814.000000</td>\n",
       "      <td>23814.000000</td>\n",
       "      <td>23814.000000</td>\n",
       "      <td>23814.000000</td>\n",
       "      <td>23814.000000</td>\n",
       "      <td>23814.000000</td>\n",
       "      <td>23814.000000</td>\n",
       "      <td>23814.000000</td>\n",
       "      <td>23814.000000</td>\n",
       "      <td>...</td>\n",
       "      <td>23814.000000</td>\n",
       "      <td>23814.000000</td>\n",
       "      <td>23814.000000</td>\n",
       "      <td>23814.000000</td>\n",
       "      <td>23814.000000</td>\n",
       "      <td>23814.000000</td>\n",
       "      <td>23814.000000</td>\n",
       "      <td>23814.000000</td>\n",
       "      <td>23814.000000</td>\n",
       "      <td>23814.000000</td>\n",
       "    </tr>\n",
       "    <tr>\n",
       "      <th>mean</th>\n",
       "      <td>0.248366</td>\n",
       "      <td>-0.095684</td>\n",
       "      <td>0.152253</td>\n",
       "      <td>0.081971</td>\n",
       "      <td>0.057347</td>\n",
       "      <td>-0.138836</td>\n",
       "      <td>0.035961</td>\n",
       "      <td>-0.202651</td>\n",
       "      <td>-0.190083</td>\n",
       "      <td>0.119905</td>\n",
       "      <td>...</td>\n",
       "      <td>0.207299</td>\n",
       "      <td>0.009161</td>\n",
       "      <td>0.171027</td>\n",
       "      <td>0.002316</td>\n",
       "      <td>-0.209799</td>\n",
       "      <td>-0.076251</td>\n",
       "      <td>0.134162</td>\n",
       "      <td>-0.128018</td>\n",
       "      <td>-0.219210</td>\n",
       "      <td>0.101524</td>\n",
       "    </tr>\n",
       "    <tr>\n",
       "      <th>std</th>\n",
       "      <td>1.393399</td>\n",
       "      <td>0.812363</td>\n",
       "      <td>1.035731</td>\n",
       "      <td>0.950012</td>\n",
       "      <td>1.032091</td>\n",
       "      <td>1.179388</td>\n",
       "      <td>0.882395</td>\n",
       "      <td>1.125494</td>\n",
       "      <td>1.749885</td>\n",
       "      <td>1.087180</td>\n",
       "      <td>...</td>\n",
       "      <td>1.096488</td>\n",
       "      <td>1.200395</td>\n",
       "      <td>1.357701</td>\n",
       "      <td>1.052771</td>\n",
       "      <td>1.201918</td>\n",
       "      <td>1.115477</td>\n",
       "      <td>0.951264</td>\n",
       "      <td>1.230636</td>\n",
       "      <td>1.326193</td>\n",
       "      <td>1.417674</td>\n",
       "    </tr>\n",
       "    <tr>\n",
       "      <th>min</th>\n",
       "      <td>-5.513000</td>\n",
       "      <td>-5.737000</td>\n",
       "      <td>-9.104000</td>\n",
       "      <td>-5.998000</td>\n",
       "      <td>-6.369000</td>\n",
       "      <td>-10.000000</td>\n",
       "      <td>-10.000000</td>\n",
       "      <td>-10.000000</td>\n",
       "      <td>-10.000000</td>\n",
       "      <td>-8.337000</td>\n",
       "      <td>...</td>\n",
       "      <td>-8.193000</td>\n",
       "      <td>-10.000000</td>\n",
       "      <td>-9.795000</td>\n",
       "      <td>-8.180000</td>\n",
       "      <td>-10.000000</td>\n",
       "      <td>-10.000000</td>\n",
       "      <td>-4.269000</td>\n",
       "      <td>-10.000000</td>\n",
       "      <td>-10.000000</td>\n",
       "      <td>-10.000000</td>\n",
       "    </tr>\n",
       "    <tr>\n",
       "      <th>25%</th>\n",
       "      <td>-0.473075</td>\n",
       "      <td>-0.562200</td>\n",
       "      <td>-0.437750</td>\n",
       "      <td>-0.429575</td>\n",
       "      <td>-0.470925</td>\n",
       "      <td>-0.602225</td>\n",
       "      <td>-0.493900</td>\n",
       "      <td>-0.525175</td>\n",
       "      <td>-0.511675</td>\n",
       "      <td>-0.360200</td>\n",
       "      <td>...</td>\n",
       "      <td>-0.433875</td>\n",
       "      <td>-0.502250</td>\n",
       "      <td>-0.537075</td>\n",
       "      <td>-0.508775</td>\n",
       "      <td>-0.606175</td>\n",
       "      <td>-0.506200</td>\n",
       "      <td>-0.353100</td>\n",
       "      <td>-0.544600</td>\n",
       "      <td>-0.554400</td>\n",
       "      <td>-0.523800</td>\n",
       "    </tr>\n",
       "    <tr>\n",
       "      <th>50%</th>\n",
       "      <td>-0.008850</td>\n",
       "      <td>-0.046600</td>\n",
       "      <td>0.075200</td>\n",
       "      <td>0.008050</td>\n",
       "      <td>-0.026900</td>\n",
       "      <td>-0.015650</td>\n",
       "      <td>-0.000650</td>\n",
       "      <td>-0.017900</td>\n",
       "      <td>0.010000</td>\n",
       "      <td>0.160450</td>\n",
       "      <td>...</td>\n",
       "      <td>0.059600</td>\n",
       "      <td>-0.005900</td>\n",
       "      <td>-0.013600</td>\n",
       "      <td>-0.027700</td>\n",
       "      <td>-0.011850</td>\n",
       "      <td>0.009900</td>\n",
       "      <td>0.005400</td>\n",
       "      <td>0.000600</td>\n",
       "      <td>0.028700</td>\n",
       "      <td>-0.006500</td>\n",
       "    </tr>\n",
       "    <tr>\n",
       "      <th>75%</th>\n",
       "      <td>0.525700</td>\n",
       "      <td>0.403075</td>\n",
       "      <td>0.663925</td>\n",
       "      <td>0.463400</td>\n",
       "      <td>0.465375</td>\n",
       "      <td>0.510425</td>\n",
       "      <td>0.528725</td>\n",
       "      <td>0.411900</td>\n",
       "      <td>0.549225</td>\n",
       "      <td>0.697775</td>\n",
       "      <td>...</td>\n",
       "      <td>0.648500</td>\n",
       "      <td>0.492150</td>\n",
       "      <td>0.522500</td>\n",
       "      <td>0.457000</td>\n",
       "      <td>0.483000</td>\n",
       "      <td>0.511175</td>\n",
       "      <td>0.409075</td>\n",
       "      <td>0.498500</td>\n",
       "      <td>0.496400</td>\n",
       "      <td>0.536950</td>\n",
       "    </tr>\n",
       "    <tr>\n",
       "      <th>max</th>\n",
       "      <td>10.000000</td>\n",
       "      <td>5.039000</td>\n",
       "      <td>8.257000</td>\n",
       "      <td>10.000000</td>\n",
       "      <td>10.000000</td>\n",
       "      <td>7.282000</td>\n",
       "      <td>7.333000</td>\n",
       "      <td>5.473000</td>\n",
       "      <td>8.887000</td>\n",
       "      <td>6.433000</td>\n",
       "      <td>...</td>\n",
       "      <td>10.000000</td>\n",
       "      <td>9.552000</td>\n",
       "      <td>10.000000</td>\n",
       "      <td>8.346000</td>\n",
       "      <td>5.444000</td>\n",
       "      <td>6.317000</td>\n",
       "      <td>10.000000</td>\n",
       "      <td>5.911000</td>\n",
       "      <td>10.000000</td>\n",
       "      <td>10.000000</td>\n",
       "    </tr>\n",
       "  </tbody>\n",
       "</table>\n",
       "<p>8 rows × 772 columns</p>\n",
       "</div>"
      ],
      "text/plain": [
       "                g-0           g-1           g-2           g-3           g-4  \\\n",
       "count  23814.000000  23814.000000  23814.000000  23814.000000  23814.000000   \n",
       "mean       0.248366     -0.095684      0.152253      0.081971      0.057347   \n",
       "std        1.393399      0.812363      1.035731      0.950012      1.032091   \n",
       "min       -5.513000     -5.737000     -9.104000     -5.998000     -6.369000   \n",
       "25%       -0.473075     -0.562200     -0.437750     -0.429575     -0.470925   \n",
       "50%       -0.008850     -0.046600      0.075200      0.008050     -0.026900   \n",
       "75%        0.525700      0.403075      0.663925      0.463400      0.465375   \n",
       "max       10.000000      5.039000      8.257000     10.000000     10.000000   \n",
       "\n",
       "                g-5           g-6           g-7           g-8           g-9  \\\n",
       "count  23814.000000  23814.000000  23814.000000  23814.000000  23814.000000   \n",
       "mean      -0.138836      0.035961     -0.202651     -0.190083      0.119905   \n",
       "std        1.179388      0.882395      1.125494      1.749885      1.087180   \n",
       "min      -10.000000    -10.000000    -10.000000    -10.000000     -8.337000   \n",
       "25%       -0.602225     -0.493900     -0.525175     -0.511675     -0.360200   \n",
       "50%       -0.015650     -0.000650     -0.017900      0.010000      0.160450   \n",
       "75%        0.510425      0.528725      0.411900      0.549225      0.697775   \n",
       "max        7.282000      7.333000      5.473000      8.887000      6.433000   \n",
       "\n",
       "       ...         g-762         g-763         g-764         g-765  \\\n",
       "count  ...  23814.000000  23814.000000  23814.000000  23814.000000   \n",
       "mean   ...      0.207299      0.009161      0.171027      0.002316   \n",
       "std    ...      1.096488      1.200395      1.357701      1.052771   \n",
       "min    ...     -8.193000    -10.000000     -9.795000     -8.180000   \n",
       "25%    ...     -0.433875     -0.502250     -0.537075     -0.508775   \n",
       "50%    ...      0.059600     -0.005900     -0.013600     -0.027700   \n",
       "75%    ...      0.648500      0.492150      0.522500      0.457000   \n",
       "max    ...     10.000000      9.552000     10.000000      8.346000   \n",
       "\n",
       "              g-766         g-767         g-768         g-769         g-770  \\\n",
       "count  23814.000000  23814.000000  23814.000000  23814.000000  23814.000000   \n",
       "mean      -0.209799     -0.076251      0.134162     -0.128018     -0.219210   \n",
       "std        1.201918      1.115477      0.951264      1.230636      1.326193   \n",
       "min      -10.000000    -10.000000     -4.269000    -10.000000    -10.000000   \n",
       "25%       -0.606175     -0.506200     -0.353100     -0.544600     -0.554400   \n",
       "50%       -0.011850      0.009900      0.005400      0.000600      0.028700   \n",
       "75%        0.483000      0.511175      0.409075      0.498500      0.496400   \n",
       "max        5.444000      6.317000     10.000000      5.911000     10.000000   \n",
       "\n",
       "              g-771  \n",
       "count  23814.000000  \n",
       "mean       0.101524  \n",
       "std        1.417674  \n",
       "min      -10.000000  \n",
       "25%       -0.523800  \n",
       "50%       -0.006500  \n",
       "75%        0.536950  \n",
       "max       10.000000  \n",
       "\n",
       "[8 rows x 772 columns]"
      ]
     },
     "execution_count": 13,
     "metadata": {},
     "output_type": "execute_result"
    }
   ],
   "source": [
    "# Seleciona todos os dados das colunas dos g's\n",
    "dados.loc[:, 'g-0':'g-771'].describe()"
   ]
  },
  {
   "cell_type": "code",
   "execution_count": 14,
   "metadata": {
    "colab": {
     "base_uri": "https://localhost:8080/",
     "height": 285
    },
    "id": "-pCaRFvH8rpX",
    "outputId": "8d0f4a16-73ea-4da4-d114-ff1cffd009a1"
   },
   "outputs": [
    {
     "data": {
      "text/plain": [
       "<AxesSubplot:>"
      ]
     },
     "execution_count": 14,
     "metadata": {},
     "output_type": "execute_result"
    },
    {
     "data": {
      "image/png": "[encoded data removed]",
      "text/plain": [
       "<Figure size 432x288 with 1 Axes>"
      ]
     },
     "metadata": {},
     "output_type": "display_data"
    }
   ],
   "source": [
    "# Transforma colunas em indexes e plota um histograma da média de g's\n",
    "dados.loc[:, 'g-0':'g-771'].describe().T['mean'].hist(bins=30)"
   ]
  },
  {
   "cell_type": "code",
   "execution_count": 15,
   "metadata": {
    "colab": {
     "base_uri": "https://localhost:8080/",
     "height": 285
    },
    "id": "o7KH_eio9LN2",
    "outputId": "370c4354-22b3-4106-caf8-a74781e37daa"
   },
   "outputs": [
    {
     "data": {
      "text/plain": [
       "<AxesSubplot:>"
      ]
     },
     "execution_count": 15,
     "metadata": {},
     "output_type": "execute_result"
    },
    {
     "data": {
      "image/png": "[encoded data removed]",
      "text/plain": [
       "<Figure size 432x288 with 1 Axes>"
      ]
     },
     "metadata": {},
     "output_type": "display_data"
    }
   ],
   "source": [
    "# Transforma colunas em indexes e plota um histograma dos mínimos de g's\n",
    "dados.loc[:, 'g-0':'g-771'].describe().T['min'].hist(bins=30)"
   ]
  },
  {
   "cell_type": "code",
   "execution_count": 16,
   "metadata": {
    "colab": {
     "base_uri": "https://localhost:8080/",
     "height": 285
    },
    "id": "dx3tGNMh26wJ",
    "outputId": "6b05f861-9d84-4367-925d-ac8b06ef7bfd"
   },
   "outputs": [
    {
     "data": {
      "text/plain": [
       "<AxesSubplot:>"
      ]
     },
     "execution_count": 16,
     "metadata": {},
     "output_type": "execute_result"
    },
    {
     "data": {
      "image/png": "[encoded data removed]",
      "text/plain": [
       "<Figure size 432x288 with 1 Axes>"
      ]
     },
     "metadata": {},
     "output_type": "display_data"
    }
   ],
   "source": [
    "# Monta um histograma de g-0 com o pandas\n",
    "dados['g-0'].hist(bins=100)"
   ]
  },
  {
   "cell_type": "code",
   "execution_count": 17,
   "metadata": {
    "colab": {
     "base_uri": "https://localhost:8080/",
     "height": 285
    },
    "id": "OFL9cU0d5_7T",
    "outputId": "80ad1c0a-8f53-4b17-e5a3-b4559ba5f2ec"
   },
   "outputs": [
    {
     "data": {
      "text/plain": [
       "<AxesSubplot:>"
      ]
     },
     "execution_count": 17,
     "metadata": {},
     "output_type": "execute_result"
    },
    {
     "data": {
      "image/png": "[encoded data removed]",
      "text/plain": [
       "<Figure size 432x288 with 1 Axes>"
      ]
     },
     "metadata": {},
     "output_type": "display_data"
    }
   ],
   "source": [
    "# Monta um histograma de g-19 com o pandas\n",
    "dados['g-19'].hist(bins=100)"
   ]
  },
  {
   "cell_type": "code",
   "execution_count": 18,
   "metadata": {
    "colab": {
     "base_uri": "https://localhost:8080/",
     "height": 285
    },
    "id": "lR5SZiGq_Tnx",
    "outputId": "f1256ad3-4d3a-418e-e7de-a001543468a7"
   },
   "outputs": [
    {
     "data": {
      "text/plain": [
       "<AxesSubplot:>"
      ]
     },
     "execution_count": 18,
     "metadata": {},
     "output_type": "execute_result"
    },
    {
     "data": {
      "image/png": "[encoded data removed]",
      "text/plain": [
       "<Figure size 432x288 with 1 Axes>"
      ]
     },
     "metadata": {},
     "output_type": "display_data"
    }
   ],
   "source": [
    "# Transforma colunas em indexes e plota um histograma da média de c's\n",
    "dados.loc[:, 'c-0':'c-99'].describe().T['mean'].hist(bins=50)"
   ]
  },
  {
   "cell_type": "code",
   "execution_count": 19,
   "metadata": {
    "colab": {
     "base_uri": "https://localhost:8080/",
     "height": 302
    },
    "id": "yWOEkqMMA0nI",
    "outputId": "e21afc06-2b19-4c60-82b5-13ee9eb0826d"
   },
   "outputs": [
    {
     "data": {
      "text/plain": [
       "<AxesSubplot:xlabel='g-0'>"
      ]
     },
     "execution_count": 19,
     "metadata": {},
     "output_type": "execute_result"
    },
    {
     "data": {
      "image/png": "[encoded data removed]",
      "text/plain": [
       "<Figure size 432x288 with 1 Axes>"
      ]
     },
     "metadata": {},
     "output_type": "display_data"
    }
   ],
   "source": [
    "# Plota um gráfico do tipo boxplot de g-0\n",
    "sns.boxplot(x='g-0', data=dados)"
   ]
  },
  {
   "cell_type": "code",
   "execution_count": 20,
   "metadata": {
    "colab": {
     "base_uri": "https://localhost:8080/",
     "height": 303
    },
    "id": "giQeOSczCv3x",
    "outputId": "7e5bb438-b2b6-469e-acd5-0f37b1fd4d91"
   },
   "outputs": [
    {
     "data": {
      "text/plain": [
       "<AxesSubplot:xlabel='tratamento', ylabel='g-0'>"
      ]
     },
     "execution_count": 20,
     "metadata": {},
     "output_type": "execute_result"
    },
    {
     "data": {
      "image/png": "[encoded data removed]",
      "text/plain": [
       "<Figure size 432x288 with 1 Axes>"
      ]
     },
     "metadata": {},
     "output_type": "display_data"
    }
   ],
   "source": [
    "# Plota um gráfico do tipo boxplot de tratamento com tratamento\n",
    "# e com g-0 como eixo y\n",
    "sns.boxplot(y='g-0', x='tratamento', data=dados)"
   ]
  },
  {
   "cell_type": "markdown",
   "metadata": {
    "id": "u5G57SIGpxr3"
   },
   "source": [
    "## Desafios da Aula 2"
   ]
  },
  {
   "cell_type": "markdown",
   "metadata": {
    "id": "eayqRb2ez1d1"
   },
   "source": [
    "### Desafio 01: Ordenar o gráfico countplot"
   ]
  },
  {
   "cell_type": "code",
   "execution_count": 8,
   "metadata": {
    "colab": {
     "base_uri": "https://localhost:8080/",
     "height": 410
    },
    "id": "7i4cfWJwE8AG",
    "outputId": "7336a19f-3234-44b7-bdf8-28e3fb173df4"
   },
   "outputs": [
    {
     "data": {
      "image/png": "[encoded data removed]",
      "text/plain": [
       "<Figure size 576x432 with 1 Axes>"
      ]
     },
     "metadata": {},
     "output_type": "display_data"
    },
    {
     "data": {
      "text/html": [
       "\n",
       "<form action=\"javascript:code_toggle()\"><input type=\"submit\" id=\"toggleButton\" value=\"Mostrar código\"></form>\n"
      ],
      "text/plain": [
       "<IPython.core.display.HTML object>"
      ]
     },
     "metadata": {},
     "output_type": "display_data"
    }
   ],
   "source": [
    "# A ordenação se dá pela utilização da opção 'order' de countplot, informando\n",
    "# o array com os indexes dos 05 compostos mais frequentes contido em cod_compostos\n",
    "cod_compostos = dados['composto'].value_counts().index[0:5]\n",
    "\n",
    "compostos_filtrados = dados.query('composto in @cod_compostos')\n",
    "\n",
    "plt.figure(figsize=(8,6))\n",
    "ax = sns.countplot(x='composto', data=compostos_filtrados, order=cod_compostos)\n",
    "ax.set_title('Top 5 compostos')\n",
    "plt.show()\n",
    "\n",
    "# Esconde / mostra célula\n",
    "esconde()"
   ]
  },
  {
   "cell_type": "markdown",
   "metadata": {
    "id": "mc04rVEQ1V0j"
   },
   "source": [
    "### Desafio 02: Melhorar a visualização alterando tamanho de fonte, legendas, etc"
   ]
  },
  {
   "cell_type": "code",
   "execution_count": 22,
   "metadata": {
    "colab": {
     "base_uri": "https://localhost:8080/",
     "height": 529
    },
    "id": "5wTR3BQBIzBj",
    "outputId": "03bc2a10-bf39-4be9-88d7-af39fb8b132a"
   },
   "outputs": [
    {
     "data": {
      "image/png": "[encoded data removed]",
      "text/plain": [
       "<Figure size 720x576 with 1 Axes>"
      ]
     },
     "metadata": {},
     "output_type": "display_data"
    }
   ],
   "source": [
    "# Para configurar as legendas de eixos x e y, usa-se set_xlabel e set_ylabel,\n",
    "# respectivamente.\n",
    "# Mudança de tamanho de fonte é feita com a opção 'fontsize'\n",
    "cod_compostos = dados['composto'].value_counts().index[0:5]\n",
    "\n",
    "compostos_filtrados = dados.query('composto in @cod_compostos')\n",
    "\n",
    "plt.figure(figsize=(10,8))\n",
    "ax = sns.countplot(x='composto', data=compostos_filtrados, order=cod_compostos)\n",
    "ax.set_title('Top 5 compostos', fontsize=24)\n",
    "ax.set_xlabel('Compostos', fontsize=16)\n",
    "ax.set_ylabel('Contagem', fontsize=16)\n",
    "plt.show()"
   ]
  },
  {
   "cell_type": "markdown",
   "metadata": {
    "id": "9aktsGM3-rRA"
   },
   "source": [
    "### Desafio 03: plotar os histogramas com o seaborn"
   ]
  },
  {
   "cell_type": "code",
   "execution_count": 23,
   "metadata": {
    "colab": {
     "base_uri": "https://localhost:8080/",
     "height": 529
    },
    "id": "h3VOTFZ-KaF_",
    "outputId": "c88fe834-ee8e-452a-8a92-7797eebfbb51"
   },
   "outputs": [
    {
     "data": {
      "image/png": "[encoded data removed]",
      "text/plain": [
       "<Figure size 720x576 with 1 Axes>"
      ]
     },
     "metadata": {},
     "output_type": "display_data"
    }
   ],
   "source": [
    "# Para plotar um histograma com o seaborn utiliza-se 'histplot'.\n",
    "# A opção\n",
    "plt.figure(figsize=(10,8))\n",
    "ax = sns.histplot(x='g-0', data=dados)\n",
    "ax.set_title('Histograma de g-0', fontsize=24)\n",
    "ax.set_xlabel('g-0', fontsize=16)\n",
    "ax.set_ylabel('Contagem', fontsize=16)\n",
    "plt.show()"
   ]
  },
  {
   "cell_type": "markdown",
   "metadata": {
    "id": "s00WKYiu-vbi"
   },
   "source": [
    "### Desafio 04: estudar sobre as estatísticas retornadas pelo método describe"
   ]
  },
  {
   "cell_type": "markdown",
   "metadata": {
    "id": "f-iRiEboMm1N"
   },
   "source": [
    "Item   | significado\n",
    "-------|------------\n",
    "count  | contagem dos valores existentes não nulos da amostragem\n",
    "mean   | Média dos valores da amostragem\n",
    "min    | Valor mínimo da amostragem\n",
    "std    | Desvio padrão (uniformidade) da amostragem\n",
    "25%    | Percentual mais baixo\n",
    "50%    | Percentual médio\n",
    "75%    | Percentual mais alto\n",
    "max    | Valor máximo da amostragem\n",
    "\n",
    "*Fonte*: [pandas.DataFrame.describe](https://pandas.pydata.org/docs/reference/api/pandas.DataFrame.describe.html)"
   ]
  },
  {
   "cell_type": "code",
   "execution_count": 24,
   "metadata": {
    "colab": {
     "base_uri": "https://localhost:8080/",
     "height": 350
    },
    "id": "2FOQgkXGNA_b",
    "outputId": "352d7181-e3f3-4a92-b9b0-f58d52dca441"
   },
   "outputs": [
    {
     "data": {
      "text/html": [
       "<div>\n",
       "<style scoped>\n",
       "    .dataframe tbody tr th:only-of-type {\n",
       "        vertical-align: middle;\n",
       "    }\n",
       "\n",
       "    .dataframe tbody tr th {\n",
       "        vertical-align: top;\n",
       "    }\n",
       "\n",
       "    .dataframe thead th {\n",
       "        text-align: right;\n",
       "    }\n",
       "</style>\n",
       "<table border=\"1\" class=\"dataframe\">\n",
       "  <thead>\n",
       "    <tr style=\"text-align: right;\">\n",
       "      <th></th>\n",
       "      <th>tempo</th>\n",
       "      <th>g-0</th>\n",
       "      <th>g-1</th>\n",
       "      <th>g-2</th>\n",
       "      <th>g-3</th>\n",
       "      <th>g-4</th>\n",
       "      <th>g-5</th>\n",
       "      <th>g-6</th>\n",
       "      <th>g-7</th>\n",
       "      <th>g-8</th>\n",
       "      <th>...</th>\n",
       "      <th>c-90</th>\n",
       "      <th>c-91</th>\n",
       "      <th>c-92</th>\n",
       "      <th>c-93</th>\n",
       "      <th>c-94</th>\n",
       "      <th>c-95</th>\n",
       "      <th>c-96</th>\n",
       "      <th>c-97</th>\n",
       "      <th>c-98</th>\n",
       "      <th>c-99</th>\n",
       "    </tr>\n",
       "  </thead>\n",
       "  <tbody>\n",
       "    <tr>\n",
       "      <th>count</th>\n",
       "      <td>23814.000000</td>\n",
       "      <td>23814.000000</td>\n",
       "      <td>23814.000000</td>\n",
       "      <td>23814.000000</td>\n",
       "      <td>23814.000000</td>\n",
       "      <td>23814.000000</td>\n",
       "      <td>23814.000000</td>\n",
       "      <td>23814.000000</td>\n",
       "      <td>23814.000000</td>\n",
       "      <td>23814.000000</td>\n",
       "      <td>...</td>\n",
       "      <td>23814.000000</td>\n",
       "      <td>23814.000000</td>\n",
       "      <td>23814.000000</td>\n",
       "      <td>23814.000000</td>\n",
       "      <td>23814.000000</td>\n",
       "      <td>23814.000000</td>\n",
       "      <td>23814.000000</td>\n",
       "      <td>23814.000000</td>\n",
       "      <td>23814.000000</td>\n",
       "      <td>23814.000000</td>\n",
       "    </tr>\n",
       "    <tr>\n",
       "      <th>mean</th>\n",
       "      <td>48.020156</td>\n",
       "      <td>0.248366</td>\n",
       "      <td>-0.095684</td>\n",
       "      <td>0.152253</td>\n",
       "      <td>0.081971</td>\n",
       "      <td>0.057347</td>\n",
       "      <td>-0.138836</td>\n",
       "      <td>0.035961</td>\n",
       "      <td>-0.202651</td>\n",
       "      <td>-0.190083</td>\n",
       "      <td>...</td>\n",
       "      <td>-0.469244</td>\n",
       "      <td>-0.461411</td>\n",
       "      <td>-0.513256</td>\n",
       "      <td>-0.500142</td>\n",
       "      <td>-0.507093</td>\n",
       "      <td>-0.353726</td>\n",
       "      <td>-0.463485</td>\n",
       "      <td>-0.378241</td>\n",
       "      <td>-0.470252</td>\n",
       "      <td>-0.301505</td>\n",
       "    </tr>\n",
       "    <tr>\n",
       "      <th>std</th>\n",
       "      <td>19.402807</td>\n",
       "      <td>1.393399</td>\n",
       "      <td>0.812363</td>\n",
       "      <td>1.035731</td>\n",
       "      <td>0.950012</td>\n",
       "      <td>1.032091</td>\n",
       "      <td>1.179388</td>\n",
       "      <td>0.882395</td>\n",
       "      <td>1.125494</td>\n",
       "      <td>1.749885</td>\n",
       "      <td>...</td>\n",
       "      <td>2.000488</td>\n",
       "      <td>2.042475</td>\n",
       "      <td>2.001714</td>\n",
       "      <td>2.107105</td>\n",
       "      <td>2.159589</td>\n",
       "      <td>1.629291</td>\n",
       "      <td>2.059725</td>\n",
       "      <td>1.703615</td>\n",
       "      <td>1.834828</td>\n",
       "      <td>1.407918</td>\n",
       "    </tr>\n",
       "    <tr>\n",
       "      <th>min</th>\n",
       "      <td>24.000000</td>\n",
       "      <td>-5.513000</td>\n",
       "      <td>-5.737000</td>\n",
       "      <td>-9.104000</td>\n",
       "      <td>-5.998000</td>\n",
       "      <td>-6.369000</td>\n",
       "      <td>-10.000000</td>\n",
       "      <td>-10.000000</td>\n",
       "      <td>-10.000000</td>\n",
       "      <td>-10.000000</td>\n",
       "      <td>...</td>\n",
       "      <td>-10.000000</td>\n",
       "      <td>-10.000000</td>\n",
       "      <td>-10.000000</td>\n",
       "      <td>-10.000000</td>\n",
       "      <td>-10.000000</td>\n",
       "      <td>-10.000000</td>\n",
       "      <td>-10.000000</td>\n",
       "      <td>-10.000000</td>\n",
       "      <td>-10.000000</td>\n",
       "      <td>-10.000000</td>\n",
       "    </tr>\n",
       "    <tr>\n",
       "      <th>25%</th>\n",
       "      <td>24.000000</td>\n",
       "      <td>-0.473075</td>\n",
       "      <td>-0.562200</td>\n",
       "      <td>-0.437750</td>\n",
       "      <td>-0.429575</td>\n",
       "      <td>-0.470925</td>\n",
       "      <td>-0.602225</td>\n",
       "      <td>-0.493900</td>\n",
       "      <td>-0.525175</td>\n",
       "      <td>-0.511675</td>\n",
       "      <td>...</td>\n",
       "      <td>-0.566175</td>\n",
       "      <td>-0.565975</td>\n",
       "      <td>-0.589975</td>\n",
       "      <td>-0.568700</td>\n",
       "      <td>-0.563775</td>\n",
       "      <td>-0.567975</td>\n",
       "      <td>-0.552575</td>\n",
       "      <td>-0.561000</td>\n",
       "      <td>-0.592600</td>\n",
       "      <td>-0.562900</td>\n",
       "    </tr>\n",
       "    <tr>\n",
       "      <th>50%</th>\n",
       "      <td>48.000000</td>\n",
       "      <td>-0.008850</td>\n",
       "      <td>-0.046600</td>\n",
       "      <td>0.075200</td>\n",
       "      <td>0.008050</td>\n",
       "      <td>-0.026900</td>\n",
       "      <td>-0.015650</td>\n",
       "      <td>-0.000650</td>\n",
       "      <td>-0.017900</td>\n",
       "      <td>0.010000</td>\n",
       "      <td>...</td>\n",
       "      <td>-0.009900</td>\n",
       "      <td>0.003250</td>\n",
       "      <td>-0.009100</td>\n",
       "      <td>-0.013750</td>\n",
       "      <td>-0.003300</td>\n",
       "      <td>-0.010250</td>\n",
       "      <td>-0.001250</td>\n",
       "      <td>-0.006800</td>\n",
       "      <td>0.014000</td>\n",
       "      <td>-0.019500</td>\n",
       "    </tr>\n",
       "    <tr>\n",
       "      <th>75%</th>\n",
       "      <td>72.000000</td>\n",
       "      <td>0.525700</td>\n",
       "      <td>0.403075</td>\n",
       "      <td>0.663925</td>\n",
       "      <td>0.463400</td>\n",
       "      <td>0.465375</td>\n",
       "      <td>0.510425</td>\n",
       "      <td>0.528725</td>\n",
       "      <td>0.411900</td>\n",
       "      <td>0.549225</td>\n",
       "      <td>...</td>\n",
       "      <td>0.457750</td>\n",
       "      <td>0.461500</td>\n",
       "      <td>0.445675</td>\n",
       "      <td>0.452900</td>\n",
       "      <td>0.470900</td>\n",
       "      <td>0.444750</td>\n",
       "      <td>0.465225</td>\n",
       "      <td>0.446400</td>\n",
       "      <td>0.461275</td>\n",
       "      <td>0.438650</td>\n",
       "    </tr>\n",
       "    <tr>\n",
       "      <th>max</th>\n",
       "      <td>72.000000</td>\n",
       "      <td>10.000000</td>\n",
       "      <td>5.039000</td>\n",
       "      <td>8.257000</td>\n",
       "      <td>10.000000</td>\n",
       "      <td>10.000000</td>\n",
       "      <td>7.282000</td>\n",
       "      <td>7.333000</td>\n",
       "      <td>5.473000</td>\n",
       "      <td>8.887000</td>\n",
       "      <td>...</td>\n",
       "      <td>4.069000</td>\n",
       "      <td>3.960000</td>\n",
       "      <td>3.927000</td>\n",
       "      <td>3.596000</td>\n",
       "      <td>3.747000</td>\n",
       "      <td>2.814000</td>\n",
       "      <td>3.505000</td>\n",
       "      <td>2.924000</td>\n",
       "      <td>3.111000</td>\n",
       "      <td>3.805000</td>\n",
       "    </tr>\n",
       "  </tbody>\n",
       "</table>\n",
       "<p>8 rows × 873 columns</p>\n",
       "</div>"
      ],
      "text/plain": [
       "              tempo           g-0           g-1           g-2           g-3  \\\n",
       "count  23814.000000  23814.000000  23814.000000  23814.000000  23814.000000   \n",
       "mean      48.020156      0.248366     -0.095684      0.152253      0.081971   \n",
       "std       19.402807      1.393399      0.812363      1.035731      0.950012   \n",
       "min       24.000000     -5.513000     -5.737000     -9.104000     -5.998000   \n",
       "25%       24.000000     -0.473075     -0.562200     -0.437750     -0.429575   \n",
       "50%       48.000000     -0.008850     -0.046600      0.075200      0.008050   \n",
       "75%       72.000000      0.525700      0.403075      0.663925      0.463400   \n",
       "max       72.000000     10.000000      5.039000      8.257000     10.000000   \n",
       "\n",
       "                g-4           g-5           g-6           g-7           g-8  \\\n",
       "count  23814.000000  23814.000000  23814.000000  23814.000000  23814.000000   \n",
       "mean       0.057347     -0.138836      0.035961     -0.202651     -0.190083   \n",
       "std        1.032091      1.179388      0.882395      1.125494      1.749885   \n",
       "min       -6.369000    -10.000000    -10.000000    -10.000000    -10.000000   \n",
       "25%       -0.470925     -0.602225     -0.493900     -0.525175     -0.511675   \n",
       "50%       -0.026900     -0.015650     -0.000650     -0.017900      0.010000   \n",
       "75%        0.465375      0.510425      0.528725      0.411900      0.549225   \n",
       "max       10.000000      7.282000      7.333000      5.473000      8.887000   \n",
       "\n",
       "       ...          c-90          c-91          c-92          c-93  \\\n",
       "count  ...  23814.000000  23814.000000  23814.000000  23814.000000   \n",
       "mean   ...     -0.469244     -0.461411     -0.513256     -0.500142   \n",
       "std    ...      2.000488      2.042475      2.001714      2.107105   \n",
       "min    ...    -10.000000    -10.000000    -10.000000    -10.000000   \n",
       "25%    ...     -0.566175     -0.565975     -0.589975     -0.568700   \n",
       "50%    ...     -0.009900      0.003250     -0.009100     -0.013750   \n",
       "75%    ...      0.457750      0.461500      0.445675      0.452900   \n",
       "max    ...      4.069000      3.960000      3.927000      3.596000   \n",
       "\n",
       "               c-94          c-95          c-96          c-97          c-98  \\\n",
       "count  23814.000000  23814.000000  23814.000000  23814.000000  23814.000000   \n",
       "mean      -0.507093     -0.353726     -0.463485     -0.378241     -0.470252   \n",
       "std        2.159589      1.629291      2.059725      1.703615      1.834828   \n",
       "min      -10.000000    -10.000000    -10.000000    -10.000000    -10.000000   \n",
       "25%       -0.563775     -0.567975     -0.552575     -0.561000     -0.592600   \n",
       "50%       -0.003300     -0.010250     -0.001250     -0.006800      0.014000   \n",
       "75%        0.470900      0.444750      0.465225      0.446400      0.461275   \n",
       "max        3.747000      2.814000      3.505000      2.924000      3.111000   \n",
       "\n",
       "               c-99  \n",
       "count  23814.000000  \n",
       "mean      -0.301505  \n",
       "std        1.407918  \n",
       "min      -10.000000  \n",
       "25%       -0.562900  \n",
       "50%       -0.019500  \n",
       "75%        0.438650  \n",
       "max        3.805000  \n",
       "\n",
       "[8 rows x 873 columns]"
      ]
     },
     "execution_count": 24,
     "metadata": {},
     "output_type": "execute_result"
    }
   ],
   "source": [
    "dados.describe()"
   ]
  },
  {
   "cell_type": "markdown",
   "metadata": {
    "id": "So-_dZ6oD5ip"
   },
   "source": [
    "### Desafio 05: Refletir sobre a manipulação dos tamanhos das visualizações"
   ]
  },
  {
   "cell_type": "markdown",
   "metadata": {
    "id": "hqwMxR9ZQChU"
   },
   "source": [
    "Configurar o tamanho das visualizações pode melhorar a legibilidade e proporciona uma melhor identificação dos detalhes e nuances  dos gráficos."
   ]
  },
  {
   "cell_type": "markdown",
   "metadata": {
    "id": "OPFJqwhtEIMh"
   },
   "source": [
    "### Desafio 06: Fazer outras análises com o boxplot e com o histograma"
   ]
  },
  {
   "cell_type": "markdown",
   "metadata": {
    "id": "NhZFeC45TFKW"
   },
   "source": [
    "#### Boxplot\n"
   ]
  },
  {
   "cell_type": "code",
   "execution_count": 25,
   "metadata": {
    "colab": {
     "base_uri": "https://localhost:8080/",
     "height": 529
    },
    "id": "C-mjKfneR2hd",
    "outputId": "7d7bbf48-02be-4169-fa1b-06adc2876812"
   },
   "outputs": [
    {
     "data": {
      "image/png": "[encoded data removed]",
      "text/plain": [
       "<Figure size 720x576 with 1 Axes>"
      ]
     },
     "metadata": {},
     "output_type": "display_data"
    }
   ],
   "source": [
    "plt.figure(figsize=(10,8))\n",
    "ax = sns.boxplot(x='tempo', y='g-0', data=dados)\n",
    "ax.set_title('Boxplot de tempo na coluna g-0', fontsize=24)\n",
    "ax.set_xlabel('Tempo', fontsize=16)\n",
    "ax.set_ylabel('Valor de g-0', fontsize=16)\n",
    "plt.show()"
   ]
  },
  {
   "cell_type": "markdown",
   "metadata": {
    "id": "Su9aY5xlTNm3"
   },
   "source": [
    "#### Histograma"
   ]
  },
  {
   "cell_type": "code",
   "execution_count": 26,
   "metadata": {
    "colab": {
     "base_uri": "https://localhost:8080/",
     "height": 531
    },
    "id": "byXdb2hCTQ11",
    "outputId": "6e3819e5-cd82-4663-cc97-8077e83fcad2"
   },
   "outputs": [
    {
     "data": {
      "image/png": "[encoded data removed]",
      "text/plain": [
       "<Figure size 720x576 with 1 Axes>"
      ]
     },
     "metadata": {},
     "output_type": "display_data"
    }
   ],
   "source": [
    "medias_c = dados.loc[:, 'c-0':'c-99'].describe().T['mean']\n",
    "\n",
    "plt.figure(figsize=(10,8))\n",
    "ax = sns.histplot(data=medias_c)\n",
    "ax.set_title('Histograma das médias dos c\\'s', fontsize=24)\n",
    "ax.set_xlabel('Médias', fontsize=16)\n",
    "ax.set_ylabel('Contagem', fontsize=16)\n",
    "plt.show()"
   ]
  },
  {
   "cell_type": "markdown",
   "metadata": {
    "id": "y9D0wwH2Ee4z"
   },
   "source": [
    "### Desafio 07: Resumo do que foi aprendido\n",
    "\n",
    "Nesta aula aprendemos a utilizar a biblioteca Seaborn para apresentar gráficos mais elaborados. Com ele conseguimos deixar nossos gráficos mais legíveis, manipulando configurações que impactam no tamanho do gráfico e das fontes das legendas\n",
    "\n",
    "Aprendemos, também, a descrever nosso dataframe com o método *describe*, que retorna informações úteis como médias de valores, valores mínimos e máximos, etc.\n",
    "\n",
    "Explorando um pouco mais o dataframe, aprendemos que as colunas nomeadas como *g* se referem à expressões genéticas e as nomeadas com *c* se referem a linhagens celulares nos quais foram testados os fármacos."
   ]
  }
 ],
 "metadata": {
  "colab": {
   "collapsed_sections": [],
   "name": "aula2.ipynb",
   "provenance": []
  },
  "kernelspec": {
   "display_name": "Python 3",
   "language": "python",
   "name": "python3"
  },
  "language_info": {
   "codemirror_mode": {
    "name": "ipython",
    "version": 3
   },
   "file_extension": ".py",
   "mimetype": "text/x-python",
   "name": "python",
   "nbconvert_exporter": "python",
   "pygments_lexer": "ipython3",
   "version": "3.8.5"
  }
 },
 "nbformat": 4,
 "nbformat_minor": 1
}
